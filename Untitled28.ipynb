{
 "cells": [
  {
   "cell_type": "code",
   "execution_count": 2,
   "id": "bf12864a",
   "metadata": {},
   "outputs": [
    {
     "name": "stdout",
     "output_type": "stream",
     "text": [
      "Accuracy: 0.8186046511627907\n",
      "Predicted:\n",
      " [1 1 1 0 1 1 1 1 1 1 1 1 0 1 1 1 1 0 1 0 1 1 1 1 1 0 1 1 1 1 1 1 1 1 0 1 1\n",
      " 1 1 1 1 1 1 1 1 1 1 1 1 0 1 0 0 1 1 1 1 1 1 1 1 1 1 1 1 0 1 1 1 1 1 1 1 1\n",
      " 0 1 1 1 1 1 1 1 1 1 1 1 1 1 1 1 1 0 1 1 1 1 1 1 1 1 0 1 1 1 1 1 0 1 1 1 1\n",
      " 0 1 1 1 1 1 1 1 1 0 1 1 1 1 1 1 1 1 1 1 1 1 1 1 1 0 1 1 1 1 1 1 1 0 1 1 1\n",
      " 1 0 1 1 1 0 1 0 1 1 1 0 1 0 1 1 1 0 1 0 0 0 1 1 1 0 1 1 1 1 1 1 1 1 1 1 1\n",
      " 1 0 1 1 0 1 1 1 1 0 1 1 1 0 1 1 1 1 1 1 1 0 1 0 1 1 1 1 1 1]\n",
      "Actual:\n",
      " [1 1 1 0 1 0 0 1 1 0 1 1 0 1 0 1 1 0 0 1 1 1 1 1 1 0 1 1 1 0 1 0 1 1 0 1 0\n",
      " 1 1 1 1 0 0 1 1 0 0 1 1 0 1 0 0 1 1 1 1 1 1 1 1 1 1 0 1 0 1 1 0 1 1 1 1 1\n",
      " 1 0 1 1 1 0 1 1 0 1 1 1 1 0 1 1 1 0 1 0 1 1 1 0 1 0 0 1 1 1 1 0 0 1 1 0 1\n",
      " 0 1 1 1 1 1 1 1 1 0 1 1 1 1 1 1 1 1 1 0 1 1 1 1 1 0 1 1 1 1 0 1 1 0 1 1 1\n",
      " 1 0 1 1 1 1 1 0 1 1 0 0 1 0 1 1 1 0 1 0 0 0 0 1 1 0 1 0 1 1 1 0 1 0 0 1 0\n",
      " 1 0 1 0 0 0 1 1 1 0 1 1 1 0 1 1 0 1 1 1 1 0 1 0 1 1 1 1 1 0]\n",
      "Predicted Result: [1]\n"
     ]
    }
   ],
   "source": [
    "\n",
    "import pandas as pd\n",
    "import numpy as np\n",
    "data=pd.read_csv(\"Placement_Data.csv\")\n",
    "data.head()\n",
    "data1=data.copy()\n",
    "data1.head()\n",
    "data1=data.drop(['sl_no','salary'],axis=1)\n",
    "data1\n",
    "from sklearn.preprocessing import LabelEncoder\n",
    "le=LabelEncoder()\n",
    "data1[\"gender\"]=le.fit_transform(data1[\"gender\"])\n",
    "data1[\"ssc_b\"]=le.fit_transform(data1[\"ssc_b\"])\n",
    "data1[\"hsc_b\"]=le.fit_transform(data1[\"hsc_b\"])\n",
    "data1[\"hsc_s\"]=le.fit_transform(data1[\"hsc_s\"])\n",
    "data1[\"degree_t\"]=le.fit_transform(data1[\"degree_t\"])\n",
    "data1[\"workex\"]=le.fit_transform(data1[\"workex\"])\n",
    "data1[\"specialisation\"]=le.fit_transform(data1[\"specialisation\"])\n",
    "data1[\"status\"]=le.fit_transform(data1[\"status\"])\n",
    "X=data1.iloc[:,: -1]\n",
    "Y=data1[\"status\"]\n",
    "theta=np.random.randn(X.shape[1])\n",
    "y=Y\n",
    "def sigmoid(z):\n",
    "  return 1/(1+np.exp(-z))\n",
    "def loss(theta,X,y):\n",
    "  h=sigmoid(X.dot(theta))\n",
    "  return -np.sum(y*np.log(h)+ (1-y) * np.log(1-h))\n",
    "def gradient_descent(theta,X,y,alpha,num_iterations):\n",
    "  m=len(y)\n",
    "  for i in range(num_iterations):\n",
    "    h=sigmoid(X.dot(theta))\n",
    "    gradient=X.T.dot(h-y)/m\n",
    "    theta-=alpha*gradient\n",
    "  return theta\n",
    "theta=gradient_descent(theta,X,y,alpha=0.01,num_iterations=1000)\n",
    "def predict(theta,X):\n",
    "  h=sigmoid(X.dot(theta))\n",
    "  y_pred=np.where(h>=0.5 , 1,0)\n",
    "  return y_pred\n",
    "y_pred=predict(theta,X)\n",
    "accuracy=np.mean(y_pred.flatten()==y)\n",
    "print(\"Accuracy:\",accuracy)\n",
    "print(\"Predicted:\\n\",y_pred)\n",
    "print(\"Actual:\\n\",y.values)\n",
    "xnew=np.array([[0,87,0,95,0,2,78,2,0,0,1,0]])\n",
    "y_prednew=predict(theta,xnew)\n",
    "print(\"Predicted Result:\",y_prednew)\n"
   ]
  },
  {
   "cell_type": "code",
   "execution_count": null,
   "id": "61580b81",
   "metadata": {},
   "outputs": [],
   "source": []
  }
 ],
 "metadata": {
  "kernelspec": {
   "display_name": "Python 3 (ipykernel)",
   "language": "python",
   "name": "python3"
  },
  "language_info": {
   "codemirror_mode": {
    "name": "ipython",
    "version": 3
   },
   "file_extension": ".py",
   "mimetype": "text/x-python",
   "name": "python",
   "nbconvert_exporter": "python",
   "pygments_lexer": "ipython3",
   "version": "3.11.3"
  }
 },
 "nbformat": 4,
 "nbformat_minor": 5
}
